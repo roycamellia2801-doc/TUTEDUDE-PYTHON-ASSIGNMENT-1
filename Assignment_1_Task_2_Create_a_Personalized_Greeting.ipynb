{
  "nbformat": 4,
  "nbformat_minor": 0,
  "metadata": {
    "colab": {
      "provenance": [],
      "authorship_tag": "ABX9TyMLCgqlIWbfMJMTR6JIPiNT",
      "include_colab_link": true
    },
    "kernelspec": {
      "name": "python3",
      "display_name": "Python 3"
    },
    "language_info": {
      "name": "python"
    }
  },
  "cells": [
    {
      "cell_type": "markdown",
      "metadata": {
        "id": "view-in-github",
        "colab_type": "text"
      },
      "source": [
        "<a href=\"https://colab.research.google.com/github/roycamellia2801-doc/TUTEDUDE-PYTHON-ASSIGNMENT-1/blob/main/Assignment_1_Task_2_Create_a_Personalized_Greeting.ipynb\" target=\"_parent\"><img src=\"https://colab.research.google.com/assets/colab-badge.svg\" alt=\"Open In Colab\"/></a>"
      ]
    },
    {
      "cell_type": "code",
      "execution_count": 3,
      "metadata": {
        "colab": {
          "base_uri": "https://localhost:8080/"
        },
        "id": "5_FVvbakZJu_",
        "outputId": "7218c4fc-f97a-4901-c029-484950bfd8d2"
      },
      "outputs": [
        {
          "output_type": "stream",
          "name": "stdout",
          "text": [
            "Enter your first name: Abhica\n",
            "Enter your last name: Roy\n",
            "\n",
            "Hello, Abhica Roy! Welcome to the Python program!\n"
          ]
        }
      ],
      "source": [
        "# Take user's first name and last name as input\n",
        "first_name = input(\"Enter your first name: \")\n",
        "last_name = input(\"Enter your last name: \")\n",
        "\n",
        "# Concatenate the first and last name\n",
        "full_name = first_name + \" \" + last_name\n",
        "\n",
        "# Print a personalized greeting message\n",
        "print(f\"\\nHello, {full_name}! Welcome to the Python program!\")"
      ]
    }
  ]
}